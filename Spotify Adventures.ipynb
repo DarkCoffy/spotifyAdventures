{
 "cells": [
  {
   "cell_type": "code",
   "execution_count": 7,
   "metadata": {
    "collapsed": true
   },
   "outputs": [],
   "source": [
    "import datetime\n",
    "import requests\n",
    "import collections\n",
    "import json\n",
    "import requests\n",
    "import pandas as pd\n",
    "import numpy as np\n",
    "import seaborn as sns\n",
    "import matplotlib.pyplot as plt\n",
    "%matplotlib inline"
   ]
  },
  {
   "cell_type": "code",
   "execution_count": 12,
   "metadata": {
    "collapsed": false
   },
   "outputs": [],
   "source": [
    "def getAccessToken():\n",
    "    client_id = 'e088d78512324711aab5a7d2c5c7945c'\n",
    "    client_secret = 'b65c9cd8db494a8faa7be0535f762b55'\n",
    "\n",
    "    grant_type = 'client_credentials'\n",
    "\n",
    "    #Request based on Client Credentials Flow from https://developer.spotify.com/web-api/authorization-guide/  \n",
    "    #Request body parameter: grant_type Value: Required. We use client_credentials to get an access token for carrying out requests.\n",
    "    body_params = {'grant_type' : grant_type}\n",
    "\n",
    "    url='https://accounts.spotify.com/api/token'\n",
    "\n",
    "    response=requests.post(url, data=body_params, auth = (client_id, client_secret)) \n",
    "    response=(json.loads(response.text))\n",
    "\n",
    "    accessToken=(response['access_token'])\n",
    "\n",
    "    return accessToken"
   ]
  },
  {
   "cell_type": "code",
   "execution_count": 33,
   "metadata": {
    "collapsed": false
   },
   "outputs": [
    {
     "data": {
      "text/html": [
       "<div>\n",
       "<table border=\"1\" class=\"dataframe\">\n",
       "  <thead>\n",
       "    <tr style=\"text-align: right;\">\n",
       "      <th></th>\n",
       "      <th>Position</th>\n",
       "      <th>Track Name</th>\n",
       "      <th>Artist</th>\n",
       "      <th>Streams</th>\n",
       "      <th>URL</th>\n",
       "      <th>month</th>\n",
       "    </tr>\n",
       "  </thead>\n",
       "  <tbody>\n",
       "    <tr>\n",
       "      <th>0</th>\n",
       "      <td>1</td>\n",
       "      <td>Fake Love</td>\n",
       "      <td>Drake</td>\n",
       "      <td>8618267</td>\n",
       "      <td>https://open.spotify.com/track/343YBumqHu19cGo...</td>\n",
       "      <td>December</td>\n",
       "    </tr>\n",
       "    <tr>\n",
       "      <th>1</th>\n",
       "      <td>2</td>\n",
       "      <td>Bad and Boujee (feat. Lil Uzi Vert)</td>\n",
       "      <td>Migos</td>\n",
       "      <td>7946032</td>\n",
       "      <td>https://open.spotify.com/track/4Km5HrUvYTaSUfi...</td>\n",
       "      <td>December</td>\n",
       "    </tr>\n",
       "    <tr>\n",
       "      <th>2</th>\n",
       "      <td>3</td>\n",
       "      <td>Starboy</td>\n",
       "      <td>The Weeknd</td>\n",
       "      <td>7738517</td>\n",
       "      <td>https://open.spotify.com/track/5aAx2yezTd8zXrk...</td>\n",
       "      <td>December</td>\n",
       "    </tr>\n",
       "    <tr>\n",
       "      <th>3</th>\n",
       "      <td>4</td>\n",
       "      <td>Black Beatles</td>\n",
       "      <td>Rae Sremmurd</td>\n",
       "      <td>6209336</td>\n",
       "      <td>https://open.spotify.com/track/6fujklziTHa8uoM...</td>\n",
       "      <td>December</td>\n",
       "    </tr>\n",
       "    <tr>\n",
       "      <th>4</th>\n",
       "      <td>5</td>\n",
       "      <td>Closer</td>\n",
       "      <td>The Chainsmokers</td>\n",
       "      <td>5813157</td>\n",
       "      <td>https://open.spotify.com/track/7BKLCZ1jbUBVqRi...</td>\n",
       "      <td>December</td>\n",
       "    </tr>\n",
       "  </tbody>\n",
       "</table>\n",
       "</div>"
      ],
      "text/plain": [
       "   Position                           Track Name            Artist  Streams  \\\n",
       "0         1                            Fake Love             Drake  8618267   \n",
       "1         2  Bad and Boujee (feat. Lil Uzi Vert)             Migos  7946032   \n",
       "2         3                              Starboy        The Weeknd  7738517   \n",
       "3         4                        Black Beatles      Rae Sremmurd  6209336   \n",
       "4         5                               Closer  The Chainsmokers  5813157   \n",
       "\n",
       "                                                 URL     month  \n",
       "0  https://open.spotify.com/track/343YBumqHu19cGo...  December  \n",
       "1  https://open.spotify.com/track/4Km5HrUvYTaSUfi...  December  \n",
       "2  https://open.spotify.com/track/5aAx2yezTd8zXrk...  December  \n",
       "3  https://open.spotify.com/track/6fujklziTHa8uoM...  December  \n",
       "4  https://open.spotify.com/track/7BKLCZ1jbUBVqRi...  December  "
      ]
     },
     "execution_count": 33,
     "metadata": {},
     "output_type": "execute_result"
    }
   ],
   "source": [
    "fromDate=datetime.date(2016,12,23)\n",
    "toDate=fromDate + datetime.timedelta(weeks=1)\n",
    "fromDate=fromDate.strftime('%Y-%m-%d')\n",
    "toDate=toDate.strftime('%Y-%m-%d')\n",
    "df= pd.read_csv('Data/regional-us-weekly-'+fromDate+'--'+toDate+'.csv')\n",
    "df['month']=datetime.datetime.strptime(fromDate,'%Y-%m-%d').strftime('%B')\n",
    "df.head()"
   ]
  },
  {
   "cell_type": "code",
   "execution_count": 58,
   "metadata": {
    "collapsed": false
   },
   "outputs": [
    {
     "data": {
      "text/html": [
       "<div>\n",
       "<table border=\"1\" class=\"dataframe\">\n",
       "  <thead>\n",
       "    <tr style=\"text-align: right;\">\n",
       "      <th></th>\n",
       "      <th>Position</th>\n",
       "      <th>Track Name</th>\n",
       "      <th>Artist</th>\n",
       "      <th>Streams</th>\n",
       "      <th>URL</th>\n",
       "      <th>month</th>\n",
       "      <th>trackId</th>\n",
       "    </tr>\n",
       "  </thead>\n",
       "  <tbody>\n",
       "    <tr>\n",
       "      <th>0</th>\n",
       "      <td>1</td>\n",
       "      <td>Fake Love</td>\n",
       "      <td>Drake</td>\n",
       "      <td>8618267</td>\n",
       "      <td>https://open.spotify.com/track/343YBumqHu19cGo...</td>\n",
       "      <td>December</td>\n",
       "      <td>343YBumqHu19cGoGARUTsd</td>\n",
       "    </tr>\n",
       "    <tr>\n",
       "      <th>1</th>\n",
       "      <td>2</td>\n",
       "      <td>Bad and Boujee (feat. Lil Uzi Vert)</td>\n",
       "      <td>Migos</td>\n",
       "      <td>7946032</td>\n",
       "      <td>https://open.spotify.com/track/4Km5HrUvYTaSUfi...</td>\n",
       "      <td>December</td>\n",
       "      <td>4Km5HrUvYTaSUfiSGPJeQR</td>\n",
       "    </tr>\n",
       "    <tr>\n",
       "      <th>2</th>\n",
       "      <td>3</td>\n",
       "      <td>Starboy</td>\n",
       "      <td>The Weeknd</td>\n",
       "      <td>7738517</td>\n",
       "      <td>https://open.spotify.com/track/5aAx2yezTd8zXrk...</td>\n",
       "      <td>December</td>\n",
       "      <td>5aAx2yezTd8zXrkmtKl66Z</td>\n",
       "    </tr>\n",
       "    <tr>\n",
       "      <th>3</th>\n",
       "      <td>4</td>\n",
       "      <td>Black Beatles</td>\n",
       "      <td>Rae Sremmurd</td>\n",
       "      <td>6209336</td>\n",
       "      <td>https://open.spotify.com/track/6fujklziTHa8uoM...</td>\n",
       "      <td>December</td>\n",
       "      <td>6fujklziTHa8uoM5OQSfIo</td>\n",
       "    </tr>\n",
       "    <tr>\n",
       "      <th>4</th>\n",
       "      <td>5</td>\n",
       "      <td>Closer</td>\n",
       "      <td>The Chainsmokers</td>\n",
       "      <td>5813157</td>\n",
       "      <td>https://open.spotify.com/track/7BKLCZ1jbUBVqRi...</td>\n",
       "      <td>December</td>\n",
       "      <td>7BKLCZ1jbUBVqRi2FVlTVw</td>\n",
       "    </tr>\n",
       "  </tbody>\n",
       "</table>\n",
       "</div>"
      ],
      "text/plain": [
       "   Position                           Track Name            Artist  Streams  \\\n",
       "0         1                            Fake Love             Drake  8618267   \n",
       "1         2  Bad and Boujee (feat. Lil Uzi Vert)             Migos  7946032   \n",
       "2         3                              Starboy        The Weeknd  7738517   \n",
       "3         4                        Black Beatles      Rae Sremmurd  6209336   \n",
       "4         5                               Closer  The Chainsmokers  5813157   \n",
       "\n",
       "                                                 URL     month  \\\n",
       "0  https://open.spotify.com/track/343YBumqHu19cGo...  December   \n",
       "1  https://open.spotify.com/track/4Km5HrUvYTaSUfi...  December   \n",
       "2  https://open.spotify.com/track/5aAx2yezTd8zXrk...  December   \n",
       "3  https://open.spotify.com/track/6fujklziTHa8uoM...  December   \n",
       "4  https://open.spotify.com/track/7BKLCZ1jbUBVqRi...  December   \n",
       "\n",
       "                  trackId  \n",
       "0  343YBumqHu19cGoGARUTsd  \n",
       "1  4Km5HrUvYTaSUfiSGPJeQR  \n",
       "2  5aAx2yezTd8zXrkmtKl66Z  \n",
       "3  6fujklziTHa8uoM5OQSfIo  \n",
       "4  7BKLCZ1jbUBVqRi2FVlTVw  "
      ]
     },
     "execution_count": 58,
     "metadata": {},
     "output_type": "execute_result"
    }
   ],
   "source": [
    "def trackId(trackLink):\n",
    "    return trackLink.split('/')[4]\n",
    "df['trackId']=df['URL'].apply(trackId)\n",
    "df.head()"
   ]
  },
  {
   "cell_type": "code",
   "execution_count": null,
   "metadata": {
    "collapsed": true
   },
   "outputs": [],
   "source": []
  }
 ],
 "metadata": {
  "kernelspec": {
   "display_name": "Python 3",
   "language": "python",
   "name": "python3"
  },
  "language_info": {
   "codemirror_mode": {
    "name": "ipython",
    "version": 3
   },
   "file_extension": ".py",
   "mimetype": "text/x-python",
   "name": "python",
   "nbconvert_exporter": "python",
   "pygments_lexer": "ipython3",
   "version": "3.6.0"
  }
 },
 "nbformat": 4,
 "nbformat_minor": 2
}
