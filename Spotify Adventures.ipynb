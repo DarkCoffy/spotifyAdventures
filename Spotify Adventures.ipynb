{
 "cells": [
  {
   "cell_type": "code",
   "execution_count": 7,
   "metadata": {
    "collapsed": true
   },
   "outputs": [],
   "source": [
    "import requests\n",
    "import collections\n",
    "import json\n",
    "import requests\n",
    "import pandas as pd\n",
    "import numpy as np\n",
    "import seaborn as sns\n",
    "import matplotlib.pyplot as plt\n",
    "%matplotlib inline"
   ]
  },
  {
   "cell_type": "code",
   "execution_count": 12,
   "metadata": {
    "collapsed": false
   },
   "outputs": [],
   "source": [
    "def getAccessToken():\n",
    "    client_id = 'e088d78512324711aab5a7d2c5c7945c'\n",
    "    client_secret = 'b65c9cd8db494a8faa7be0535f762b55'\n",
    "\n",
    "    grant_type = 'client_credentials'\n",
    "\n",
    "    #Request based on Client Credentials Flow from https://developer.spotify.com/web-api/authorization-guide/\n",
    "    \n",
    "    #Request body parameter: grant_type Value: Required. We use client_credentials to get an access token for carrying out requests.\n",
    "    body_params = {'grant_type' : grant_type}\n",
    "\n",
    "    url='https://accounts.spotify.com/api/token'\n",
    "\n",
    "    response=requests.post(url, data=body_params, auth = (client_id, client_secret)) \n",
    "    response=(json.loads(response.text))\n",
    "\n",
    "    accessToken=(response['access_token'])\n",
    "\n",
    "    return accessToken"
   ]
  },
  {
   "cell_type": "code",
   "execution_count": null,
   "metadata": {
    "collapsed": false
   },
   "outputs": [],
   "source": []
  },
  {
   "cell_type": "code",
   "execution_count": null,
   "metadata": {
    "collapsed": true
   },
   "outputs": [],
   "source": []
  }
 ],
 "metadata": {
  "kernelspec": {
   "display_name": "Python 3",
   "language": "python",
   "name": "python3"
  },
  "language_info": {
   "codemirror_mode": {
    "name": "ipython",
    "version": 3
   },
   "file_extension": ".py",
   "mimetype": "text/x-python",
   "name": "python",
   "nbconvert_exporter": "python",
   "pygments_lexer": "ipython3",
   "version": "3.6.0"
  }
 },
 "nbformat": 4,
 "nbformat_minor": 2
}
